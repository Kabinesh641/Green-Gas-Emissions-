import pandas as pd
import numpy as np
from sklearn.model_selection import train_test_split
from sklearn.linear_model import LinearRegression
from sklearn.metrics import mean_squared_error, r2_score
import matplotlib.pyplot as plt
import pickle

df = pd.read_csv('data/emissions.csv')

print(df.head())
print(df.describe())
print(df.info())

plt.scatter(df['Energy_Consumption'], df['Emissions'])
plt.xlabel('Energy Consumption')
plt.ylabel('GHG Emissions')
plt.title('Energy Consumption vs Emissions')
plt.show()

X = df[['GDP', 'Energy_Consumption']]
y = df['Emissions']

X_train, X_test, y_train, y_test = train_test_split(X, y, test_size=0.2, random_state=42)

model = LinearRegression()
model.fit(X_train, y_train)

y_pred = model.predict(X_test)
print("Mean Squared Error:", mean_squared_error(y_test, y_pred))
print("R2 Score:", r2_score(y_test, y_pred))

with open('model/ghg_model.pkl', 'wb') as f:
    pickle.dump(model, f)

print("Model saved as 'model/ghg_model.pkl'")
